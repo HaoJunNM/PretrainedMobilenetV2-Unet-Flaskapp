{
 "cells": [
  {
   "cell_type": "markdown",
   "metadata": {},
   "source": [
    "This is the helper code to download the images and masks from cloud"
   ]
  },
  {
   "cell_type": "code",
   "execution_count": null,
   "metadata": {},
   "outputs": [],
   "source": [
    "import pandas as pd\n",
    "import urllib.request\n",
    "from PIL import Image"
   ]
  },
  {
   "cell_type": "markdown",
   "metadata": {},
   "source": [
    "Download function"
   ]
  },
  {
   "cell_type": "code",
   "execution_count": null,
   "metadata": {},
   "outputs": [],
   "source": [
    "def url_save(i, label, url, file_path):\n",
    "    '''\n",
    "        Args:\n",
    "            i: number of image\n",
    "            label: image/mask\n",
    "            url: a URL of image\n",
    "            file_path: where to save\n",
    "    '''\n",
    "    filename = '/{}-{}'.format(label,i)\n",
    "    full_path = '{}{}'.format(file_path, filename)\n",
    "    urllib.request.urlretrieve(url, full_path)"
   ]
  },
  {
   "cell_type": "markdown",
   "metadata": {},
   "source": [
    "file path for read and save"
   ]
  },
  {
   "cell_type": "code",
   "execution_count": null,
   "metadata": {},
   "outputs": [],
   "source": [
    "mask_path = 'data/mask'\n",
    "image_path = 'data/image'\n",
    "url_image = pd.read_csv('data/data.csv',usecols=[1])\n",
    "url_mask = pd.read_csv('data/data.csv',usecols=[0])"
   ]
  },
  {
   "cell_type": "code",
   "execution_count": null,
   "metadata": {},
   "outputs": [],
   "source": [
    "for i in range(len(url_mask)):\n",
    "    url_save(i,'mask',url_mask.iloc[i][0],mask_path)\n",
    "    url_save(i,'image',url_image.iloc[i][0],image_path)"
   ]
  },
  {
   "cell_type": "code",
   "execution_count": null,
   "metadata": {},
   "outputs": [],
   "source": [
    "image = Image.open('data/image/image-0')\n",
    "print(image.format)\n",
    "print(image.mode)\n",
    "print(image.size)"
   ]
  }
 ],
 "metadata": {
  "kernelspec": {
   "display_name": "Python 3",
   "language": "python",
   "name": "python3"
  },
  "language_info": {
   "codemirror_mode": {
    "name": "ipython",
    "version": 3
   },
   "file_extension": ".py",
   "mimetype": "text/x-python",
   "name": "python",
   "nbconvert_exporter": "python",
   "pygments_lexer": "ipython3",
   "version": "3.7.10"
  }
 },
 "nbformat": 4,
 "nbformat_minor": 4
}
