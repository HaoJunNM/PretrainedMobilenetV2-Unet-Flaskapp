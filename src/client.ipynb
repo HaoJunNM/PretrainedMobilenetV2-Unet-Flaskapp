{
 "cells": [
  {
   "cell_type": "code",
   "execution_count": 1,
   "metadata": {},
   "outputs": [],
   "source": [
    "import tensorflow as tf\n",
    "import pandas as pd\n",
    "import requests\n",
    "import numpy as np\n",
    "import json\n",
    "from io import BytesIO\n",
    "from PIL import Image"
   ]
  },
  {
   "cell_type": "code",
   "execution_count": 2,
   "metadata": {},
   "outputs": [],
   "source": [
    "APP_URL = \"http://127.0.0.1:5000/inference\"\n",
    "DATA_PATH = \"../data/data.csv\""
   ]
  },
  {
   "cell_type": "code",
   "execution_count": 3,
   "metadata": {},
   "outputs": [],
   "source": [
    "def get_prediction(img: np.array):\n",
    "    resp = requests.post(\n",
    "        APP_URL, \n",
    "        json={\"image\": img.tolist()},\n",
    "    )\n",
    "    return np.array(\n",
    "        resp.json()[\"prediction\"]\n",
    "    )"
   ]
  },
  {
   "cell_type": "code",
   "execution_count": 4,
   "metadata": {},
   "outputs": [],
   "source": [
    "# example using first 10 observations from the provided data\n",
    "# for evaluation the client will be calling the app w/ a test set\n",
    "urls = pd.read_csv(DATA_PATH)\n",
    "urls = urls.iloc[:10, :]\n",
    "\n",
    "pairs = []\n",
    "for ix, row in urls.iterrows():\n",
    "    res = []\n",
    "    for col in [\"image_url\", \"mask_url\"]:\n",
    "        resp = requests.get(row[col])\n",
    "        img = Image.open(BytesIO(resp.content))\n",
    "        res.append(np.array(img, dtype=np.uint8))\n",
    "    pairs.append(res)"
   ]
  },
  {
   "cell_type": "code",
   "execution_count": 5,
   "metadata": {},
   "outputs": [],
   "source": [
    "precision = tf.keras.metrics.Precision()\n",
    "recall = tf.keras.metrics.Recall()\n",
    "iou = tf.keras.metrics.MeanIoU(num_classes=2)"
   ]
  },
  {
   "cell_type": "code",
   "execution_count": 6,
   "metadata": {},
   "outputs": [],
   "source": [
    "preds = []\n",
    "for img, _ in pairs:\n",
    "    preds.append(get_prediction(img))"
   ]
  },
  {
   "cell_type": "code",
   "execution_count": 7,
   "metadata": {},
   "outputs": [],
   "source": [
    "for pair, pred in zip(pairs, preds):\n",
    "    img, mask = pair\n",
    "    precision.update_state(mask, pred)\n",
    "    recall.update_state(mask, pred)\n",
    "    iou.update_state(mask, pred)"
   ]
  },
  {
   "cell_type": "code",
   "execution_count": 8,
   "metadata": {},
   "outputs": [
    {
     "name": "stdout",
     "output_type": "stream",
     "text": [
      "\n",
      "Precision : 0.233\n",
      "Recall : 0.988\n",
      "IOU : 0.137\n",
      "\n"
     ]
    }
   ],
   "source": [
    "results = f\"\"\"\n",
    "Precision : {precision.result().numpy():.3f}\n",
    "Recall : {recall.result().numpy():.3f}\n",
    "IOU : {iou.result().numpy():.3f}\n",
    "\"\"\"\n",
    "print(results)"
   ]
  }
 ],
 "metadata": {
  "kernelspec": {
   "display_name": "Python 3",
   "language": "python",
   "name": "python3"
  },
  "language_info": {
   "codemirror_mode": {
    "name": "ipython",
    "version": 3
   },
   "file_extension": ".py",
   "mimetype": "text/x-python",
   "name": "python",
   "nbconvert_exporter": "python",
   "pygments_lexer": "ipython3",
   "version": "3.7.10"
  }
 },
 "nbformat": 4,
 "nbformat_minor": 2
}
